{
 "cells": [
  {
   "cell_type": "markdown",
   "metadata": {},
   "source": [
    "# **MOSCOW FLATS**"
   ]
  },
  {
   "cell_type": "markdown",
   "metadata": {},
   "source": [
    "### **INTRODUCTION**"
   ]
  },
  {
   "cell_type": "markdown",
   "metadata": {},
   "source": [
    "##### This project will help people who want to buy the one- or two-rooms flat in Moscow to find the district which will match their personal needs and lifestyle. From this study you can see:"
   ]
  },
  {
   "cell_type": "markdown",
   "metadata": {},
   "source": [
    "- In which districts it is cheaper to buy a one- or two-room flat and what is an average price per square meter in each region\n",
    "- Which are the most popular venues in each district what can help you choose the district according to you own preferences\n",
    "- You can see which other districts in Moscow have the same infrastructure as your preferable one so you can widen your search and find truly the best option"
   ]
  },
  {
   "cell_type": "markdown",
   "metadata": {},
   "source": [
    "### **DATA**"
   ]
  },
  {
   "cell_type": "markdown",
   "metadata": {},
   "source": [
    "The data on the flats' sizes, prices, number of rooms and addresses was collected by scrapping one of the most popular local website with apartment listings - CIAN. Using Yandex API the coordinates for each flat were found (as the addresses on the local apartments website are in Russian, Yandex gave more accurate results than geopy). Then, the data on the closest venues (parks, cafes, hotels, gyms, supermarkets, etc.) for each district was collected using the Foursquare API. \n"
   ]
  }
 ],
 "metadata": {
  "kernelspec": {
   "display_name": "Python",
   "language": "python",
   "name": "conda-env-python-py"
  },
  "language_info": {
   "codemirror_mode": {
    "name": "ipython",
    "version": 3
   },
   "file_extension": ".py",
   "mimetype": "text/x-python",
   "name": "python",
   "nbconvert_exporter": "python",
   "pygments_lexer": "ipython3",
   "version": "3.6.10"
  }
 },
 "nbformat": 4,
 "nbformat_minor": 4
}
